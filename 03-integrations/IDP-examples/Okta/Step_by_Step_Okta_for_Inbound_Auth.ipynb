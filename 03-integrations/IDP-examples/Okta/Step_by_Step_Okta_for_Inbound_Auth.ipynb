{
 "cells": [
  {
   "cell_type": "markdown",
   "id": "05435419-cdcc-4dee-ade7-a2df210cb062",
   "metadata": {},
   "source": [
    "## Okta Overview\n",
    "\n",
    "Okta is a cloud-based identity and access management service that provides secure identity solutions for enterprises, enabling seamless authentication and authorization across applications and services.\n",
    "\n",
    "Key Features:\n",
    "* **Single Sign-On (SSO)** - Users authenticate once to access multiple applications\n",
    "* **Multi-Factor Authentication (MFA)** - Enhanced security through additional verification methods\n",
    "* **Adaptive Authentication** - Risk-based authentication policies based on user behavior and context\n",
    "* **Universal Directory** - Centralized user management and profile synchronization\n",
    "* **API Access Management** - OAuth 2.0 and OpenID Connect support for API security"
   ]
  },
  {
   "cell_type": "markdown",
   "id": "41194e03-83e6-4365-9611-c5ff5fef7b2e",
   "metadata": {},
   "source": [
    "## Learning Objective\n",
    "Okta can be used as an identity provider on AgentCore Identity and used to authenticate users and have them authorize the agent to access protected resources on their behalf. In this notebook we will explore the use of Okta for inbound authentication - Authenticate users before they can invoke an agent."
   ]
  },
  {
   "cell_type": "markdown",
   "id": "47dff909-673f-4f9e-a61c-96bc938750a9",
   "metadata": {},
   "source": [
    "## Authorization Code Flow\n",
    "The OAuth 2.0 authorization code flow is the recommended approach for web applications to securely authenticate users and obtain access tokens. This flow involves:\n",
    "1. Redirecting users to Okta for authentication\n",
    "2. Receiving an authorization code after successful login\n",
    "3. Exchanging the code for access and refresh tokens\n",
    "4. Using tokens to access protected resources\n",
    "\n",
    "This integration pattern allows AgentCore to leverage Okta's robust identity management capabilities while maintaining secure, standards-based authentication for your applications."
   ]
  },
  {
   "cell_type": "markdown",
   "id": "tutorial-architecture",
   "metadata": {},
   "source": [
    "## Tutorial Architecture\n",
    "\n",
    "```\n",
    "┌────────┐    1. Credentials    ┌───────┐    2. JWT Token    ┌────────┐\n",
    "│ Client │ ──────────────────► │ Okta  │ ─────────────────► │ Client │\n",
    "└────────┘                     └───────┘                    └───┬────┘\n",
    "                                                                │\n",
    "                                                                │ 3. Bearer JWT\n",
    "                                                                ▼\n",
    "┌────────┐    6. Response    ┌──────────────┐    4. Invoke    ┌───────────┐\n",
    "│ Client │ ◄──────────────── │ Bedrock      │ ──────────────► │   Agent   │\n",
    "└────────┘                  │ Agent Core   │ ◄──────────────── └───────────┘\n",
    "                            └──────────────┘    5. Response\n",
    "```\n",
    "\n",
    "<figure>\n",
    "    <img src=\"images/16.png\">\n",
    "</figure>"
   ]
  },
  {
   "cell_type": "markdown",
   "id": "tutorial-details",
   "metadata": {},
   "source": [
    "## Tutorial Details\n",
    "\n",
    "| Information         | Details                                                                          |\n",
    "|:--------------------|:---------------------------------------------------------------------------------|\n",
    "| Tutorial type       | Conversational                                                                   |\n",
    "| Agent type          | Single                                                                           |\n",
    "| Agentic Framework   | Strands Agents                                                                   |\n",
    "| LLM model           | Anthropic Claude Sonnet 3.5                                                     |\n",
    "| Tutorial components | Hosting agent on AgentCore Runtime. Using Strands Agent and Amazon Bedrock Model |\n",
    "| Tutorial vertical   | Cross-vertical                                                                   |\n",
    "| Example complexity  | Easy                                                                             |\n",
    "| Inbound Auth        | Okta                                                                             |\n",
    "| SDK used            | Amazon BedrockAgentCore Python SDK and boto3                                    |\n",
    "\n",
    "### Key Features\n",
    "\n",
    "* Hosting Agents on Amazon Bedrock AgentCore Runtime with Inbound Auth using Okta\n",
    "* Using Amazon Bedrock models\n",
    "* Using Strands Agents"
   ]
  },
  {
   "cell_type": "markdown",
   "id": "prerequisites",
   "metadata": {},
   "source": [
    "## Prerequisites\n",
    "\n",
    "To execute this tutorial you will need:\n",
    "* Python 3.10+\n",
    "* IAM rights to create new IAM roles, policies, and users\n",
    "* IAM rights to create a new AgentCore Agent\n",
    "* An Okta account\n",
    "* Amazon Bedrock AgentCore SDK\n",
    "* Strands Agents\n",
    "* Docker running"
   ]
  },
  {
   "cell_type": "markdown",
   "id": "learning-objective-1",
   "metadata": {},
   "source": [
    "## Learning Objective 1: Setup Okta for use with AgentCore"
   ]
  },
  {
   "cell_type": "markdown",
   "id": "okta-setup",
   "metadata": {},
   "source": [
    "## Step 1: Setting up Okta's IDP\n",
    "\n",
    "Before we can configure our AgentCore Runtime with Okta authentication, we need to set up Okta as our Identity Provider. This section will guide you through creating an Okta tenant, configuring an application, and setting up the necessary users and claims.\n",
    "\n",
    "### 1.1 Create Okta Developer Account\n",
    "\n",
    "If you don't already have an Okta account, browse to https://developer.okta.com/signup/ and select \"Sign up for Integrator Free Plan\" to sign up.\n",
    "\n",
    "### 1.2 Add a Test User\n",
    "\n",
    "1. Login to your Okta account.\n",
    "2. Select **Directory**, then **People** and click **Add person**.\n",
    "\n",
    "   <figure>\n",
    "       <img src=\"images/9.png\">\n",
    "   </figure>\n",
    "\n",
    "3. Fill in the form:\n",
    "   - For **Activation**, select **Activate now**.\n",
    "   - Check **I will set password** and set a password for the user.\n",
    "   - Uncheck **User must change password on first login**.\n",
    "   - Click **Save**.\n",
    "\n",
    "   <figure>\n",
    "       <img src=\"images/10.png\">\n",
    "   </figure>\n",
    "\n",
    "### 1.3 Create Application Integration\n",
    "\n",
    "4. Select **Applications**, then click **Create App Integration**.\n",
    "\n",
    "   <figure>\n",
    "       <img src=\"images/1.png\">\n",
    "   </figure>\n",
    "\n",
    "5. For the sign-in method, select **OIDC - OpenID Connect**, then select **Web Application** for the application type.\n",
    "\n",
    "   <figure>\n",
    "       <img src=\"images/2.png\">\n",
    "   </figure>\n",
    "\n",
    "6. Configure the application:\n",
    "   - For the App integration name enter **AgentCore Inbound Auth**\n",
    "   - Select **Authorization Code** for the grant type.\n",
    "   - Use \"https://bedrock-agentcore.us-west-2.amazonaws.com/identities/oauth2/callback\" or \"https://bedrock-agentcore.us-east-1.amazonaws.com/identities/oauth2/callback\" as the redirect URL depending on which region you will have your agent running.\n",
    "\n",
    "   <figure>\n",
    "       <img src=\"images/3.png\">\n",
    "   </figure>\n",
    "\n",
    "   - Under assignments, select **Allow everyone in your organization to access**, then leave **Enable immediate access** checked. Click **Save**.\n",
    "\n",
    "   <figure>\n",
    "       <img src=\"images/5.png\">\n",
    "   </figure>\n",
    "\n",
    "   - Copy the **Client ID** and **Secret** for later use.\n",
    "\n",
    "   <figure>\n",
    "       <img src=\"images/6.png\">\n",
    "   </figure>\n",
    "\n",
    "### 1.4 Configure Authorization Server\n",
    "\n",
    "7. In the left-hand side menu, select **Security**, then **API**, and click the name of your authorization server.\n",
    "\n",
    "   <figure>\n",
    "       <img src=\"images/7.png\">\n",
    "   </figure>\n",
    "\n",
    "   - Copy the **Audience** and save it for later use.\n",
    "     > **Note**: The default **Audience** was changed in this example. It is recommended to add a new authorization server if you plan to change the audience so that other apps are not affected.\n",
    "   \n",
    "   - Click **Claims** and add the following **client_id** and **scope** claims.\n",
    "\n",
    "   <figure>\n",
    "       <img src=\"images/8.png\">\n",
    "   </figure>\n",
    "\n",
    "### 1.5 Collect Configuration Values\n",
    "\n",
    "After completing the Okta setup, you should have the following values:\n",
    "\n",
    "- **OKTA_CLIENT_ID**: Application's Client ID from General tab\n",
    "- **OKTA_CLIENT_SECRET**: Application's Client Secret from General tab  \n",
    "- **OKTA_AUDIENCE**: Audience (e.g., `testagentcore`)\n",
    "- **OKTA_TOKEN_URL**: Your Okta domain + `/oauth2/default/v1/token`\n",
    "- **OKTA_DISCOVERY_URL**: Your Okta domain + `/oauth2/default/.well-known/openid-configuration`\n",
    "\n",
    "Keep these values handy as you'll need them in the next steps.\n",
    "\n",
    "Note:\n",
    "1. Okta is not an AWS service. Please refer to Okta documentation for costs related to Okta.\n",
    "2. Screen prints used in the following steps may change. We encourage you to refer to Okta documentation for latest guidance on setting up Okta application."
   ]
  },
  {
   "cell_type": "markdown",
   "id": "learning-objective-2",
   "metadata": {},
   "source": [
    "## Learning Objective 2 - Setup a simple agent with Okta for inbound authentication"
   ]
  },
  {
   "cell_type": "markdown",
   "id": "prerequisites-setup",
   "metadata": {},
   "source": [
    "#### Prerequisites\n",
    "1. Install required packages\n",
    "2. Import packages\n",
    "3. Get account ID to use throughout the notebook\n",
    "4. Set AWS region to \"us-west-2\". You can use any region that supports Bedrock AgentCore. Refer https://docs.aws.amazon.com/bedrock-agentcore/latest/devguide/agentcore-regions.html"
   ]
  },
  {
   "cell_type": "markdown",
   "id": "step2",
   "metadata": {},
   "source": [
    "## Step 2: Environment Setup\n",
    "\n",
    "First, let's set up the development environment and install required dependencies."
   ]
  },
  {
   "cell_type": "code",
   "execution_count": null,
   "id": "aacdfb77",
   "metadata": {},
   "outputs": [],
   "source": [
    "# Create and activate virtual environment\n",
    "cd~        \n",
    "!python -m venv .venv\n",
    "!source .venv/bin/activate"
   ]
  },
  {
   "cell_type": "markdown",
   "id": "requirements",
   "metadata": {},
   "source": [
    "For this code to run, the Strands Agents modules need to be installed in the Python environment.\n",
    "\n",
    "Add the Strands Agents modules, AgentCore SDK, and AgentCore starter toolkit to the dependency file and save it as **requirements.txt**:"
   ]
  },
  {
   "cell_type": "code",
   "execution_count": null,
   "id": "create-requirements",
   "metadata": {},
   "outputs": [],
   "source": [
    "%%writefile requirements.txt\n",
    "strands-agents\n",
    "strands-agents-tools\n",
    "bedrock-agentcore\n",
    "bedrock-agentcore-starter-toolkit"
   ]
  },
  {
   "cell_type": "code",
   "execution_count": null,
   "id": "install-requirements",
   "metadata": {},
   "outputs": [],
   "source": [
    "# Install required packages\n",
    "!pip install -r requirements.txt"
   ]
  },
  {
   "cell_type": "code",
   "execution_count": null,
   "id": "verify-install",
   "metadata": {},
   "outputs": [],
   "source": [
    "# Verify installations\n",
    "try:\n",
    "    import bedrock_agentcore\n",
    "    import strands\n",
    "    print(\"✅ All packages installed successfully\")\n",
    "    print(\"✅ bedrock-agentcore: imported\")\n",
    "    print(\"✅ strands: imported\")\n",
    "except ImportError as e:\n",
    "    print(f\"❌ Import error: {e}\")\n",
    "    print(\"Please ensure all packages are installed correctly\")"
   ]
  },
  {
   "cell_type": "markdown",
   "id": "step3",
   "metadata": {},
   "source": [
    "## Step 3: Configure Environment Variables\n",
    "\n",
    "Now that you have completed the Okta setup, configure the environment variables with the values you collected:\n",
    "\n",
    "#### Setting environment variables for some key information we will need throughout this notebook."
   ]
  },
  {
   "cell_type": "code",
   "execution_count": null,
   "id": "set-env-vars",
   "metadata": {},
   "outputs": [],
   "source": [
    "# Okta Configuration - Replace with your values\n",
    "os.environ['OKTA_CLIENT_ID'] = 'YOUR_CLIENT_ID_VALUE'\n",
    "os.environ['OKTA_CLIENT_SECRET'] = 'YOUR_CLIENT_SECRET_VALUE'\n",
    "os.environ['OKTA_AUDIENCE'] = 'YOUR_OKTA_AUDIENCE'\n",
    "os.environ['OKTA_TOKEN_URL'] = 'https://your.okta.com/oauth2/default/v1/token'\n",
    "os.environ['OKTA_DISCOVERY_URL'] = 'https://your.okta.com/oauth2/default/.well-known/openid-configuration'"
   ]
  },
  {
   "cell_type": "markdown",
   "id": "step4",
   "metadata": {},
   "source": [
    "## Step 4: Agent Code\n",
    "Keeping the agent simple since the key learning objective for this notebook is to learn inbound authentication using Okta"
   ]
  },
  {
   "cell_type": "code",
   "execution_count": null,
   "id": "create-agent",
   "metadata": {},
   "outputs": [],
   "source": [
    "%%writefile simple_agent.py\n",
    "import argparse, json\n",
    "from strands import Agent, tool\n",
    "from bedrock_agentcore.runtime import BedrockAgentCoreApp\n",
    "\n",
    "app = BedrockAgentCoreApp()\n",
    "agent = Agent()\n",
    "\n",
    "@app.entrypoint\n",
    "def invoke(payload):\n",
    "    \"\"\"Simple agent function for inbound auth demo\"\"\"\n",
    "    user_message = payload.get(\"prompt\", \"Hello! How can I help you today?\")\n",
    "    \n",
    "    # Get session information if available\n",
    "    session_id = payload.get(\"session_id\", \"no-session\")\n",
    "    \n",
    "    # Simple response with session awareness\n",
    "    response = f\"Hello! I'm a simple agent with session ID: {session_id}. You asked: {user_message}\"\n",
    "    \n",
    "    result = agent(response)\n",
    "    return {\"result\": result.message}\n",
    "\n",
    "if __name__ == \"__main__\":\n",
    "    app.run()"
   ]
  },
  {
   "cell_type": "markdown",
   "id": "step5",
   "metadata": {},
   "source": [
    "## Step 5: Configure AgentCore Runtime with Okta Authentication\n",
    "\n",
    "Configure the AgentCore Runtime with Okta OAuth authentication."
   ]
  },
  {
   "cell_type": "code",
   "execution_count": null,
   "id": "configure-runtime",
   "metadata": {},
   "outputs": [],
   "source": [
    "print(f\"Account ID: {account_id}\")\n",
    "print(f\"Region: {region}\")\n",
    "\n",
    "# Use environment variables\n",
    "discovery_url = os.getenv('OKTA_DISCOVERY_URL')\n",
    "client_id = os.getenv('OKTA_CLIENT_ID')\n",
    "audience = os.getenv('OKTA_AUDIENCE')\n",
    "\n",
    "print(f\"Discovery URL: {discovery_url}\")\n",
    "print(f\"Client ID: {client_id[:4]}****{client_id[-4:] if client_id else 'None'}\")  # Masked\n",
    "print(f\"Audience: {audience}\")\n",
    "\n",
    "agentcore_runtime = Runtime()\n",
    "\n",
    "# Try with OAuth configuration\n",
    "try:\n",
    "    response = agentcore_runtime.configure(\n",
    "        entrypoint=\"simple_agent.py\",\n",
    "        auto_create_execution_role=True,\n",
    "        auto_create_ecr=True,\n",
    "        requirements_file=\"requirements.txt\",\n",
    "        region=region,\n",
    "        agent_name=\"okta_inbound_auth_agent\",\n",
    "        authorizer_configuration={\n",
    "            \"customJWTAuthorizer\": {\n",
    "                \"discoveryUrl\": discovery_url,\n",
    "                \"allowedClients\": [client_id],\n",
    "                \"allowedAudience\": [audience]\n",
    "            }\n",
    "        }\n",
    "    )\n",
    "    print(\"✅ OAuth configuration successful\")\n",
    "except Exception as e:\n",
    "    print(f\"❌ OAuth configuration failed: {e}\")\n",
    "\n",
    "response"
   ]
  },
  {
   "cell_type": "markdown",
   "id": "step6",
   "metadata": {},
   "source": [
    "## Step 6: Launching agent to AgentCore Runtime\n",
    "\n",
    "Now that we've configured the agent, let's launch it to the AgentCore Runtime."
   ]
  },
  {
   "cell_type": "code",
   "execution_count": null,
   "id": "launch-agent",
   "metadata": {},
   "outputs": [],
   "source": [
    "launch_result = agentcore_runtime.launch()\n",
    "launch_result"
   ]
  },
  {
   "cell_type": "markdown",
   "id": "step7",
   "metadata": {},
   "source": [
    "## Step 7: Checking for the AgentCore Runtime Status\n",
    "\n",
    "Monitor the deployment status until the agent is ready."
   ]
  },
  {
   "cell_type": "code",
   "execution_count": null,
   "id": "monitor-status",
   "metadata": {},
   "outputs": [],
   "source": [
    "import time\n",
    "status_response = agentcore_runtime.status()\n",
    "status = status_response.endpoint['status']\n",
    "end_status = ['READY', 'CREATE_FAILED', 'DELETE_FAILED', 'UPDATE_FAILED']\n",
    "while status not in end_status:\n",
    "    time.sleep(10)\n",
    "    status_response = agentcore_runtime.status()\n",
    "    status = status_response.endpoint['status']\n",
    "    print(status)\n",
    "status"
   ]
  },
  {
   "cell_type": "markdown",
   "id": "step8",
   "metadata": {},
   "source": [
    "## Step 8: Save Agent ARN for Testing\n",
    "\n",
    "Extract and save the Agent ARN for testing purposes."
   ]
  },
  {
   "cell_type": "code",
   "execution_count": null,
   "id": "save-agent-arn",
   "metadata": {},
   "outputs": [],
   "source": [
    "# Extract ARN from launch_result\n",
    "if hasattr(launch_result, 'agent_arn') and launch_result.agent_arn:\n",
    "    agent_arn = launch_result.agent_arn\n",
    "    os.environ['AGENT_ARN'] = agent_arn\n",
    "    print(f\"📝 Agent ARN: {agent_arn}\")\n",
    "    print(f\"📝 Agent ID: {launch_result.agent_id}\")\n",
    "    print(f\"📝 ECR URI: {launch_result.ecr_uri}\")\n",
    "else:\n",
    "    print(\"⚠️  Could not extract Agent ARN from launch result\")\n",
    "    print(\"Launch result:\", launch_result)\n",
    "\n",
    "# Check deployment status\n",
    "if status == 'READY':\n",
    "    print(\"✅ Agent deployed successfully and ready for testing!\")\n",
    "elif status in ['CREATE_FAILED', 'DELETE_FAILED', 'UPDATE_FAILED']:\n",
    "    print(f\"❌ Agent deployment failed with status: {status}\")\n",
    "else:\n",
    "    print(f\"⚠️  Unexpected status: {status}\")"
   ]
  },
  {
   "cell_type": "markdown",
   "id": "step9",
   "metadata": {},
   "source": [
    "## Step 9: Create Test Client\n",
    "\n",
    "Create a test client to validate the Okta OAuth flow and agent invocation with session support."
   ]
  },
  {
   "cell_type": "code",
   "execution_count": null,
   "id": "setup-test-client",
   "metadata": {},
   "outputs": [],
   "source": [
    "import requests\n",
    "import json\n",
    "import time\n",
    "import urllib.parse\n",
    "import logging\n",
    "\n",
    "# Configure logging\n",
    "logging.basicConfig(level=logging.INFO, format='%(asctime)s - %(levelname)s - %(message)s')\n",
    "logger = logging.getLogger(__name__)\n",
    "\n",
    "# Configuration\n",
    "client_id = os.getenv('OKTA_CLIENT_ID')\n",
    "client_secret = os.getenv('OKTA_CLIENT_SECRET')\n",
    "audience = os.getenv('OKTA_AUDIENCE')\n",
    "token_url = os.getenv('OKTA_TOKEN_URL')\n",
    "AGENT_ARN = os.getenv('AGENT_ARN')\n",
    "\n",
    "# Uncomment below lines if you want to see configuration values (be careful with sensitive data)\n",
    "#print(f\"Client ID: {client_id}\")\n",
    "#print(f\"Token URL: {token_url}\")\n",
    "#print(f\"Agent ARN: {AGENT_ARN}\")"
   ]
  },
  {
   "cell_type": "code",
   "execution_count": null,
   "id": "oauth-function",
   "metadata": {},
   "outputs": [],
   "source": [
    "def get_oauth_token():\n",
    "    \"\"\"Get OAuth token from Okta\"\"\"\n",
    "    data = {\n",
    "        'grant_type': 'client_credentials',\n",
    "        'scope': 'agentcore'\n",
    "    }\n",
    "    \n",
    "    logger.info(\"🔐 Getting OAuth token...\")\n",
    "    \n",
    "    response = requests.post(\n",
    "        token_url,\n",
    "        data=data,\n",
    "        auth=(client_id, client_secret)\n",
    "    )\n",
    "    \n",
    "    response.raise_for_status()\n",
    "    token_data = response.json()\n",
    "    logger.info(\"✅ OAuth token obtained\")\n",
    "    return token_data['access_token']"
   ]
  },
  {
   "cell_type": "code",
   "execution_count": null,
   "id": "invoke-function",
   "metadata": {},
   "outputs": [],
   "source": [
    "def invoke_agent(access_token, query, session_id=None):\n",
    "    \"\"\"Invoke agent with session ID support\"\"\"\n",
    "    escaped_agent_arn = urllib.parse.quote(AGENT_ARN, safe='')\n",
    "    url = f\"https://bedrock-agentcore.{region}.amazonaws.com/runtimes/{escaped_agent_arn}/invocations?qualifier=DEFAULT\"\n",
    "    \n",
    "    # Generate session ID if not provided\n",
    "    if not session_id:\n",
    "        session_id = f'okta-inbound-session-{int(time.time())}-{uuid.uuid4().hex[:8]}'\n",
    "    \n",
    "    headers = {\n",
    "        'Authorization': f'Bearer {access_token}',\n",
    "        'Content-Type': 'application/json',\n",
    "        'X-Amzn-Bedrock-AgentCore-Runtime-Session-Id': session_id\n",
    "    }\n",
    "    \n",
    "    payload = {\n",
    "        'prompt': query,\n",
    "        'session_id': session_id\n",
    "    }\n",
    "    \n",
    "    logger.info(f\"🚀 Invoking agent with query: {query}\")\n",
    "    logger.info(f\"📋 Session ID: {session_id}\")\n",
    "    \n",
    "    response = requests.post(url, headers=headers, json=payload, timeout=300)\n",
    "    response.raise_for_status()\n",
    "    \n",
    "    result = response.json()\n",
    "    logger.info(\"✅ Agent response received\")\n",
    "    return result, session_id"
   ]
  },
  {
   "cell_type": "markdown",
   "id": "test-unauthenticated",
   "metadata": {},
   "source": [
    "### Test Unauthenticated Request (Should Fail)\n",
    "\n",
    "First, let's verify that our agent properly rejects unauthenticated requests:"
   ]
  },
  {
   "cell_type": "code",
   "execution_count": null,
   "id": "test-no-auth",
   "metadata": {},
   "outputs": [],
   "source": [
    "# Test unauthenticated request - this should fail\n",
    "print(\"=\" * 50)\n",
    "print(\"TEST: Unauthenticated Request (Should Fail)\")\n",
    "print(\"=\" * 50)\n",
    "\n",
    "try:\n",
    "    escaped_agent_arn = urllib.parse.quote(AGENT_ARN, safe='')\n",
    "    url = f\"https://bedrock-agentcore.{region}.amazonaws.com/runtimes/{escaped_agent_arn}/invocations?qualifier=DEFAULT\"\n",
    "    \n",
    "    headers = {\n",
    "        'Content-Type': 'application/json'\n",
    "        # Note: No Authorization header\n",
    "    }\n",
    "    \n",
    "    payload = {'prompt': 'Hello without authentication'}\n",
    "    \n",
    "    response = requests.post(url, headers=headers, json=payload, timeout=30)\n",
    "    print(f\"❌ Unexpected success! Status: {response.status_code}\")\n",
    "    print(f\"Response: {response.text}\")\n",
    "    \n",
    "except requests.exceptions.HTTPError as e:\n",
    "    print(f\"✅ Expected authentication failure: {e.response.status_code}\")\n",
    "    print(f\"Error message: {e.response.text}\")\n",
    "except Exception as e:\n",
    "    print(f\"✅ Expected authentication error: {e}\")\n",
    "\n",
    "print(\"\\n🔒 This confirms that authentication is required!\")"
   ]
  },
  {
   "cell_type": "code",
   "execution_count": null,
   "id": "get-token",
   "metadata": {},
   "outputs": [],
   "source": [
    "# Get OAuth token\n",
    "access_token = get_oauth_token()\n",
    "# Uncomment below line if you want to see token (be careful with sensitive data)\n",
    "#print(f\"Token obtained from OKTA: {access_token[:20]}...\")\n",
    "print(\"✅ OAuth token obtained successfully\")"
   ]
  },
  {
   "cell_type": "code",
   "execution_count": null,
   "id": "test-simple-query",
   "metadata": {},
   "outputs": [],
   "source": [
    "# Test 1: Simple query with session ID\n",
    "print(\"=\" * 50)\n",
    "print(\"TEST 1: Simple Query with Session ID\")\n",
    "print(\"=\" * 50)\n",
    "\n",
    "result1, session_id1 = invoke_agent(access_token, \"Hello can you guide me about AWS security best practices for authentication?\")\n",
    "print(f\"Session ID used: {session_id1}\")\n",
    "print(json.dumps(result1, indent=2))"
   ]
  },
  {
   "cell_type": "code",
   "execution_count": null,
   "id": "test-session-continuity",
   "metadata": {},
   "outputs": [],
   "source": [
    "# Test 2: Continue conversation with same session ID\n",
    "print(\"=\" * 50)\n",
    "print(\"TEST 2: Continue Conversation with Same Session\")\n",
    "print(\"=\" * 50)\n",
    "\n",
    "result2, session_id2 = invoke_agent(access_token, \"What was my previous question?\", session_id1)\n",
    "print(f\"Session ID used: {session_id2}\")\n",
    "print(json.dumps(result2, indent=2))"
   ]
  },
  {
   "cell_type": "markdown",
   "id": "conclusion",
   "metadata": {},
   "source": [
    "## Conclusion\n",
    "\n",
    "This notebook demonstrated how to:\n",
    "\n",
    "1. **Setup Okta IDP** - Configure Okta tenant, application, and authorization server\n",
    "2. **Create Simple Agent** - Build a basic agent with session awareness\n",
    "3. **Configure OAuth Authentication** - Set up AgentCore Runtime with Okta JWT validation\n",
    "4. **Deploy with Authentication** - Deploy agent with inbound authentication\n",
    "5. **Test Authentication Flow** - Verify OAuth token flow and session management\n",
    "\n",
    "### Key Learnings:\n",
    "\n",
    "- **Inbound Authentication**: Okta protects agent endpoints, ensuring only authenticated users can invoke agents\n",
    "- **Session Management**: Agents can access session information for personalized responses\n",
    "- **JWT Token Validation**: AgentCore automatically validates Okta JWT tokens\n",
    "- **Security**: Unauthenticated requests are automatically rejected\n",
    "\n",
    "### Next Steps:\n",
    "\n",
    "- Implement user-based authentication flows\n",
    "- Add more sophisticated agent logic with user context\n",
    "- Explore outbound authentication for accessing external APIs\n",
    "- Integrate with AgentCore Gateway for additional security layers"
   ]
  }
 ],
 "metadata": {
  "kernelspec": {
   "display_name": "Python 3",
   "language": "python",
   "name": "python3"
  },
  "language_info": {
   "codemirror_mode": {
    "name": "ipython",
    "version": 3
   },
   "file_extension": ".py",
   "mimetype": "text/x-python",
   "name": "python",
   "nbconvert_exporter": "python",
   "pygments_lexer": "ipython3",
   "version": "3.8.5"
  }
 },
 "nbformat": 4,
 "nbformat_minor": 5
}
